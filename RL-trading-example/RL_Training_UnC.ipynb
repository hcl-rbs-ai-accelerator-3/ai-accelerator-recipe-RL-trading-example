{
 "cells": [
  {
   "cell_type": "markdown",
   "metadata": {},
   "source": [
    "# Notebook to execute Trading Bot Code"
   ]
  },
  {
   "cell_type": "code",
   "execution_count": null,
   "metadata": {},
   "outputs": [],
   "source": [
    "!pip install tqdm"
   ]
  },
  {
   "cell_type": "code",
   "execution_count": null,
   "metadata": {},
   "outputs": [],
   "source": [
    "import sys\n",
    "!{sys.executable} -m pip install docopt\n",
    "!{sys.executable} -m pip install loggings\n",
    "!{sys.executable} -m pip install trading_bots"
   ]
  },
  {
   "cell_type": "code",
   "execution_count": null,
   "metadata": {},
   "outputs": [],
   "source": [
    "import logging\n",
    "import os\n",
    "\n",
    "from docopt import docopt\n",
    "\n",
    "from trading_bot.agent import Agent\n",
    "from trading_bot.methods import train_model, evaluate_model\n",
    "from trading_bot.utils import (\n",
    "    get_stock_data,\n",
    "    format_currency,\n",
    "    format_position,\n",
    "    show_train_result,\n",
    "    switch_k_backend_device\n",
    ")"
   ]
  },
  {
   "cell_type": "markdown",
   "metadata": {},
   "source": [
    "## Training Code \n",
    "\n",
    "### Code to create and save unconstrained models\n"
   ]
  },
  {
   "cell_type": "code",
   "execution_count": null,
   "metadata": {},
   "outputs": [],
   "source": [
    "# Initializing with parameters for the training\n",
    "train_stock = \"data/testData.csv\"\n",
    "val_stock   = \"data/GOOG_2018.csv\"\n",
    "window_size = 10\n",
    "batch_size  = 32\n",
    "ep_count    = 1  #Change this to train for multiple episodes and save the models. Model is saved every 5th iteration\n",
    "strategy    = \"t-dqn\"\n",
    "model_name  = \"model_exp2\"\n",
    "pretrained  = False \n",
    "debug       = True\n",
    "\n",
    "agent = Agent(window_size, strategy=strategy, pretrained=pretrained, model_name=model_name)\n",
    "\n",
    "train_data = get_stock_data(train_stock)\n",
    "val_data = get_stock_data(val_stock)\n",
    "\n",
    "initial_offset = val_data[1] - val_data[0]\n",
    "\n",
    "for episode in range(1, ep_count + 1):\n",
    "    train_result = train_model(agent, episode, train_data, ep_count=ep_count,batch_size=batch_size, window_size=window_size)\n",
    "    val_result, _ = evaluate_model(agent, val_data, window_size, debug)\n",
    "    print(\"Episode :\",episode,\"Validation_Result = \",val_result)\n",
    "    #show_train_result(train_result, val_result, initial_offset)"
   ]
  },
  {
   "cell_type": "markdown",
   "metadata": {},
   "source": [
    "### Evaluation on trained models\n",
    "#### This takes the trained model and evaluates it on different data"
   ]
  },
  {
   "cell_type": "code",
   "execution_count": null,
   "metadata": {},
   "outputs": [],
   "source": [
    "window_size = 10\n",
    "eval_stock = \"data/GOOG_2019.csv\"\n",
    "debug = False\n",
    "#strategy = \"t-dqn\"\n",
    "model_name = \"model_debug_25\"  #Select from models present in the model directory that were saved by the above training code\n",
    "pretrained = True\n",
    "\n",
    "data = get_stock_data(eval_stock)\n",
    "initial_offset = data[1] - data[0]\n",
    "\n",
    "\n",
    "agent = Agent(window_size, pretrained=pretrained, model_name=model_name)\n",
    "profit,hist = evaluate_model(agent, data, window_size, debug)\n",
    "print(\"Evaluation Result = \",profit)\n",
    "print(\"History of Transactions\", hist)\n",
    "#show_eval_result(model_name, profit, initial_offset)"
   ]
  },
  {
   "cell_type": "code",
   "execution_count": null,
   "metadata": {},
   "outputs": [],
   "source": []
  }
 ],
 "metadata": {
  "kernelspec": {
   "display_name": "Python 3",
   "language": "python",
   "name": "python3"
  },
  "language_info": {
   "codemirror_mode": {
    "name": "ipython",
    "version": 3
   },
   "file_extension": ".py",
   "mimetype": "text/x-python",
   "name": "python",
   "nbconvert_exporter": "python",
   "pygments_lexer": "ipython3",
   "version": "3.7.4"
  }
 },
 "nbformat": 4,
 "nbformat_minor": 4
}
